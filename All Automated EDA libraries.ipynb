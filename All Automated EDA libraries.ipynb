{
 "cells": [
  {
   "cell_type": "markdown",
   "metadata": {},
   "source": [
    "### Dtale"
   ]
  },
  {
   "cell_type": "code",
   "execution_count": 4,
   "metadata": {},
   "outputs": [
    {
     "name": "stdout",
     "output_type": "stream",
     "text": [
      "Requirement already satisfied: dtale in c:\\users\\shrutika\\appdata\\local\\programs\\python\\python39\\lib\\site-packages (2.9.0)\n",
      "Requirement already satisfied: strsimpy in c:\\users\\shrutika\\appdata\\local\\programs\\python\\python39\\lib\\site-packages (from dtale) (0.2.1)\n",
      "Requirement already satisfied: cycler in c:\\users\\shrutika\\appdata\\local\\programs\\python\\python39\\lib\\site-packages (from dtale) (0.11.0)\n",
      "Requirement already satisfied: plotly>=5.0.0 in c:\\users\\shrutika\\appdata\\local\\programs\\python\\python39\\lib\\site-packages (from dtale) (5.11.0)\n",
      "Requirement already satisfied: et-xmlfile in c:\\users\\shrutika\\appdata\\local\\programs\\python\\python39\\lib\\site-packages (from dtale) (1.1.0)\n",
      "Requirement already satisfied: missingno<=0.4.2 in c:\\users\\shrutika\\appdata\\local\\programs\\python\\python39\\lib\\site-packages (from dtale) (0.4.2)\n",
      "Requirement already satisfied: scipy in c:\\users\\shrutika\\appdata\\local\\programs\\python\\python39\\lib\\site-packages (from dtale) (1.8.0)\n",
      "Requirement already satisfied: Flask-Compress in c:\\users\\shrutika\\appdata\\local\\programs\\python\\python39\\lib\\site-packages (from dtale) (1.13)\n",
      "Requirement already satisfied: kaleido in c:\\users\\shrutika\\appdata\\local\\programs\\python\\python39\\lib\\site-packages (from dtale) (0.2.1)\n",
      "Requirement already satisfied: dash-daq in c:\\users\\shrutika\\appdata\\local\\programs\\python\\python39\\lib\\site-packages (from dtale) (0.5.0)\n",
      "Requirement already satisfied: dash-colorscales in c:\\users\\shrutika\\appdata\\local\\programs\\python\\python39\\lib\\site-packages (from dtale) (0.0.4)\n",
      "Requirement already satisfied: requests in c:\\users\\shrutika\\appdata\\local\\programs\\python\\python39\\lib\\site-packages (from dtale) (2.27.1)\n",
      "Requirement already satisfied: flask-ngrok in c:\\users\\shrutika\\appdata\\local\\programs\\python\\python39\\lib\\site-packages (from dtale) (0.0.25)\n",
      "Requirement already satisfied: itsdangerous in c:\\users\\shrutika\\appdata\\local\\programs\\python\\python39\\lib\\site-packages (from dtale) (2.0.1)\n",
      "Requirement already satisfied: certifi in c:\\users\\shrutika\\appdata\\local\\programs\\python\\python39\\lib\\site-packages (from dtale) (2021.10.8)\n",
      "Requirement already satisfied: xarray in c:\\users\\shrutika\\appdata\\local\\programs\\python\\python39\\lib\\site-packages (from dtale) (2022.12.0)\n",
      "Requirement already satisfied: statsmodels in c:\\users\\shrutika\\appdata\\local\\programs\\python\\python39\\lib\\site-packages (from dtale) (0.13.5)\n",
      "Requirement already satisfied: lz4 in c:\\users\\shrutika\\appdata\\local\\programs\\python\\python39\\lib\\site-packages (from dtale) (4.0.2)\n",
      "Requirement already satisfied: networkx in c:\\users\\shrutika\\appdata\\local\\programs\\python\\python39\\lib\\site-packages (from dtale) (2.8.8)\n",
      "Requirement already satisfied: seaborn in c:\\users\\shrutika\\appdata\\local\\programs\\python\\python39\\lib\\site-packages (from dtale) (0.12.1)\n",
      "Requirement already satisfied: pandas in c:\\users\\shrutika\\appdata\\local\\programs\\python\\python39\\lib\\site-packages (from dtale) (1.3.4)\n",
      "Requirement already satisfied: matplotlib==3.6.0 in c:\\users\\shrutika\\appdata\\local\\programs\\python\\python39\\lib\\site-packages (from dtale) (3.6.0)\n",
      "Requirement already satisfied: Flask in c:\\users\\shrutika\\appdata\\local\\programs\\python\\python39\\lib\\site-packages (from dtale) (2.0.2)\n",
      "Requirement already satisfied: openpyxl in c:\\users\\shrutika\\appdata\\local\\programs\\python\\python39\\lib\\site-packages (from dtale) (3.0.9)\n",
      "Requirement already satisfied: numpy in c:\\users\\shrutika\\appdata\\local\\programs\\python\\python39\\lib\\site-packages (from dtale) (1.21.4)\n",
      "Requirement already satisfied: dash>=2.0.0 in c:\\users\\shrutika\\appdata\\local\\programs\\python\\python39\\lib\\site-packages (from dtale) (2.7.0)\n",
      "Requirement already satisfied: squarify in c:\\users\\shrutika\\appdata\\local\\programs\\python\\python39\\lib\\site-packages (from dtale) (0.4.3)"
     ]
    },
    {
     "name": "stderr",
     "output_type": "stream",
     "text": [
      "WARNING: You are using pip version 21.3.1; however, version 22.3.1 is available.\n",
      "You should consider upgrading via the 'c:\\users\\shrutika\\appdata\\local\\programs\\python\\python39\\python.exe -m pip install --upgrade pip' command.\n"
     ]
    },
    {
     "name": "stdout",
     "output_type": "stream",
     "text": [
      "\n",
      "Requirement already satisfied: xlrd in c:\\users\\shrutika\\appdata\\local\\programs\\python\\python39\\lib\\site-packages (from dtale) (2.0.1)\n",
      "Requirement already satisfied: dash-bootstrap-components in c:\\users\\shrutika\\appdata\\local\\programs\\python\\python39\\lib\\site-packages (from dtale) (1.2.1)\n",
      "Requirement already satisfied: scikit-learn in c:\\users\\shrutika\\appdata\\local\\programs\\python\\python39\\lib\\site-packages (from dtale) (1.2.0)\n",
      "Requirement already satisfied: future>=0.14.0 in c:\\users\\shrutika\\appdata\\local\\programs\\python\\python39\\lib\\site-packages (from dtale) (0.18.2)\n",
      "Requirement already satisfied: six in c:\\users\\shrutika\\appdata\\local\\programs\\python\\python39\\lib\\site-packages (from dtale) (1.16.0)\n",
      "Requirement already satisfied: python-dateutil>=2.7 in c:\\users\\shrutika\\appdata\\local\\programs\\python\\python39\\lib\\site-packages (from matplotlib==3.6.0->dtale) (2.8.2)\n",
      "Requirement already satisfied: packaging>=20.0 in c:\\users\\shrutika\\appdata\\local\\programs\\python\\python39\\lib\\site-packages (from matplotlib==3.6.0->dtale) (22.0)\n",
      "Requirement already satisfied: pyparsing>=2.2.1 in c:\\users\\shrutika\\appdata\\local\\programs\\python\\python39\\lib\\site-packages (from matplotlib==3.6.0->dtale) (3.0.9)\n",
      "Requirement already satisfied: pillow>=6.2.0 in c:\\users\\shrutika\\appdata\\local\\programs\\python\\python39\\lib\\site-packages (from matplotlib==3.6.0->dtale) (9.3.0)\n",
      "Requirement already satisfied: contourpy>=1.0.1 in c:\\users\\shrutika\\appdata\\local\\programs\\python\\python39\\lib\\site-packages (from matplotlib==3.6.0->dtale) (1.0.6)\n",
      "Requirement already satisfied: kiwisolver>=1.0.1 in c:\\users\\shrutika\\appdata\\local\\programs\\python\\python39\\lib\\site-packages (from matplotlib==3.6.0->dtale) (1.4.4)\n",
      "Requirement already satisfied: fonttools>=4.22.0 in c:\\users\\shrutika\\appdata\\local\\programs\\python\\python39\\lib\\site-packages (from matplotlib==3.6.0->dtale) (4.38.0)\n",
      "Requirement already satisfied: dash-html-components==2.0.0 in c:\\users\\shrutika\\appdata\\local\\programs\\python\\python39\\lib\\site-packages (from dash>=2.0.0->dtale) (2.0.0)\n",
      "Requirement already satisfied: dash-core-components==2.0.0 in c:\\users\\shrutika\\appdata\\local\\programs\\python\\python39\\lib\\site-packages (from dash>=2.0.0->dtale) (2.0.0)\n",
      "Requirement already satisfied: dash-table==5.0.0 in c:\\users\\shrutika\\appdata\\local\\programs\\python\\python39\\lib\\site-packages (from dash>=2.0.0->dtale) (5.0.0)\n",
      "Requirement already satisfied: click>=7.1.2 in c:\\users\\shrutika\\appdata\\local\\programs\\python\\python39\\lib\\site-packages (from Flask->dtale) (8.0.3)\n",
      "Requirement already satisfied: Jinja2>=3.0 in c:\\users\\shrutika\\appdata\\local\\programs\\python\\python39\\lib\\site-packages (from Flask->dtale) (3.0.3)\n",
      "Requirement already satisfied: Werkzeug>=2.0 in c:\\users\\shrutika\\appdata\\local\\programs\\python\\python39\\lib\\site-packages (from Flask->dtale) (2.0.2)\n",
      "Requirement already satisfied: tenacity>=6.2.0 in c:\\users\\shrutika\\appdata\\local\\programs\\python\\python39\\lib\\site-packages (from plotly>=5.0.0->dtale) (8.1.0)\n",
      "Requirement already satisfied: brotli in c:\\users\\shrutika\\appdata\\local\\programs\\python\\python39\\lib\\site-packages (from Flask-Compress->dtale) (1.0.9)\n",
      "Requirement already satisfied: pytz>=2017.3 in c:\\users\\shrutika\\appdata\\local\\programs\\python\\python39\\lib\\site-packages (from pandas->dtale) (2021.3)\n",
      "Requirement already satisfied: idna<4,>=2.5 in c:\\users\\shrutika\\appdata\\local\\programs\\python\\python39\\lib\\site-packages (from requests->dtale) (3.3)\n",
      "Requirement already satisfied: charset-normalizer~=2.0.0 in c:\\users\\shrutika\\appdata\\local\\programs\\python\\python39\\lib\\site-packages (from requests->dtale) (2.0.10)\n",
      "Requirement already satisfied: urllib3<1.27,>=1.21.1 in c:\\users\\shrutika\\appdata\\local\\programs\\python\\python39\\lib\\site-packages (from requests->dtale) (1.26.8)\n",
      "Requirement already satisfied: joblib>=1.1.1 in c:\\users\\shrutika\\appdata\\local\\programs\\python\\python39\\lib\\site-packages (from scikit-learn->dtale) (1.2.0)\n",
      "Requirement already satisfied: threadpoolctl>=2.0.0 in c:\\users\\shrutika\\appdata\\local\\programs\\python\\python39\\lib\\site-packages (from scikit-learn->dtale) (3.1.0)\n",
      "Requirement already satisfied: patsy>=0.5.2 in c:\\users\\shrutika\\appdata\\local\\programs\\python\\python39\\lib\\site-packages (from statsmodels->dtale) (0.5.3)\n",
      "Requirement already satisfied: colorama in c:\\users\\shrutika\\appdata\\local\\programs\\python\\python39\\lib\\site-packages (from click>=7.1.2->Flask->dtale) (0.4.4)\n",
      "Requirement already satisfied: MarkupSafe>=2.0 in c:\\users\\shrutika\\appdata\\local\\programs\\python\\python39\\lib\\site-packages (from Jinja2>=3.0->Flask->dtale) (2.0.1)\n"
     ]
    }
   ],
   "source": [
    "!pip install dtale"
   ]
  },
  {
   "cell_type": "code",
   "execution_count": 15,
   "metadata": {},
   "outputs": [],
   "source": [
    "import seaborn as sns\n",
    "import pandas as pd\n"
   ]
  },
  {
   "cell_type": "code",
   "execution_count": 16,
   "metadata": {},
   "outputs": [],
   "source": [
    "dataset = sns.load_dataset(\"titanic\")"
   ]
  },
  {
   "cell_type": "code",
   "execution_count": 17,
   "metadata": {},
   "outputs": [
    {
     "data": {
      "text/html": [
       "<div>\n",
       "<style scoped>\n",
       "    .dataframe tbody tr th:only-of-type {\n",
       "        vertical-align: middle;\n",
       "    }\n",
       "\n",
       "    .dataframe tbody tr th {\n",
       "        vertical-align: top;\n",
       "    }\n",
       "\n",
       "    .dataframe thead th {\n",
       "        text-align: right;\n",
       "    }\n",
       "</style>\n",
       "<table border=\"1\" class=\"dataframe\">\n",
       "  <thead>\n",
       "    <tr style=\"text-align: right;\">\n",
       "      <th></th>\n",
       "      <th>survived</th>\n",
       "      <th>pclass</th>\n",
       "      <th>sex</th>\n",
       "      <th>age</th>\n",
       "      <th>sibsp</th>\n",
       "      <th>parch</th>\n",
       "      <th>fare</th>\n",
       "      <th>embarked</th>\n",
       "      <th>class</th>\n",
       "      <th>who</th>\n",
       "      <th>adult_male</th>\n",
       "      <th>deck</th>\n",
       "      <th>embark_town</th>\n",
       "      <th>alive</th>\n",
       "      <th>alone</th>\n",
       "    </tr>\n",
       "  </thead>\n",
       "  <tbody>\n",
       "    <tr>\n",
       "      <th>0</th>\n",
       "      <td>0</td>\n",
       "      <td>3</td>\n",
       "      <td>male</td>\n",
       "      <td>22.0</td>\n",
       "      <td>1</td>\n",
       "      <td>0</td>\n",
       "      <td>7.2500</td>\n",
       "      <td>S</td>\n",
       "      <td>Third</td>\n",
       "      <td>man</td>\n",
       "      <td>True</td>\n",
       "      <td>NaN</td>\n",
       "      <td>Southampton</td>\n",
       "      <td>no</td>\n",
       "      <td>False</td>\n",
       "    </tr>\n",
       "    <tr>\n",
       "      <th>1</th>\n",
       "      <td>1</td>\n",
       "      <td>1</td>\n",
       "      <td>female</td>\n",
       "      <td>38.0</td>\n",
       "      <td>1</td>\n",
       "      <td>0</td>\n",
       "      <td>71.2833</td>\n",
       "      <td>C</td>\n",
       "      <td>First</td>\n",
       "      <td>woman</td>\n",
       "      <td>False</td>\n",
       "      <td>C</td>\n",
       "      <td>Cherbourg</td>\n",
       "      <td>yes</td>\n",
       "      <td>False</td>\n",
       "    </tr>\n",
       "    <tr>\n",
       "      <th>2</th>\n",
       "      <td>1</td>\n",
       "      <td>3</td>\n",
       "      <td>female</td>\n",
       "      <td>26.0</td>\n",
       "      <td>0</td>\n",
       "      <td>0</td>\n",
       "      <td>7.9250</td>\n",
       "      <td>S</td>\n",
       "      <td>Third</td>\n",
       "      <td>woman</td>\n",
       "      <td>False</td>\n",
       "      <td>NaN</td>\n",
       "      <td>Southampton</td>\n",
       "      <td>yes</td>\n",
       "      <td>True</td>\n",
       "    </tr>\n",
       "    <tr>\n",
       "      <th>3</th>\n",
       "      <td>1</td>\n",
       "      <td>1</td>\n",
       "      <td>female</td>\n",
       "      <td>35.0</td>\n",
       "      <td>1</td>\n",
       "      <td>0</td>\n",
       "      <td>53.1000</td>\n",
       "      <td>S</td>\n",
       "      <td>First</td>\n",
       "      <td>woman</td>\n",
       "      <td>False</td>\n",
       "      <td>C</td>\n",
       "      <td>Southampton</td>\n",
       "      <td>yes</td>\n",
       "      <td>False</td>\n",
       "    </tr>\n",
       "    <tr>\n",
       "      <th>4</th>\n",
       "      <td>0</td>\n",
       "      <td>3</td>\n",
       "      <td>male</td>\n",
       "      <td>35.0</td>\n",
       "      <td>0</td>\n",
       "      <td>0</td>\n",
       "      <td>8.0500</td>\n",
       "      <td>S</td>\n",
       "      <td>Third</td>\n",
       "      <td>man</td>\n",
       "      <td>True</td>\n",
       "      <td>NaN</td>\n",
       "      <td>Southampton</td>\n",
       "      <td>no</td>\n",
       "      <td>True</td>\n",
       "    </tr>\n",
       "  </tbody>\n",
       "</table>\n",
       "</div>"
      ],
      "text/plain": [
       "   survived  pclass     sex   age  sibsp  parch     fare embarked  class  \\\n",
       "0         0       3    male  22.0      1      0   7.2500        S  Third   \n",
       "1         1       1  female  38.0      1      0  71.2833        C  First   \n",
       "2         1       3  female  26.0      0      0   7.9250        S  Third   \n",
       "3         1       1  female  35.0      1      0  53.1000        S  First   \n",
       "4         0       3    male  35.0      0      0   8.0500        S  Third   \n",
       "\n",
       "     who  adult_male deck  embark_town alive  alone  \n",
       "0    man        True  NaN  Southampton    no  False  \n",
       "1  woman       False    C    Cherbourg   yes  False  \n",
       "2  woman       False  NaN  Southampton   yes   True  \n",
       "3  woman       False    C  Southampton   yes  False  \n",
       "4    man        True  NaN  Southampton    no   True  "
      ]
     },
     "execution_count": 17,
     "metadata": {},
     "output_type": "execute_result"
    }
   ],
   "source": [
    "dataset.head()"
   ]
  },
  {
   "cell_type": "code",
   "execution_count": 18,
   "metadata": {},
   "outputs": [],
   "source": [
    "import dtale"
   ]
  },
  {
   "cell_type": "code",
   "execution_count": 19,
   "metadata": {},
   "outputs": [
    {
     "data": {
      "text/html": [
       "\n",
       "        <iframe\n",
       "            width=\"100%\"\n",
       "            height=\"475\"\n",
       "            src=\"http://LAPTOP-5IHJ1V76:40000/dtale/iframe/2\"\n",
       "            frameborder=\"0\"\n",
       "            allowfullscreen\n",
       "        ></iframe>\n",
       "        "
      ],
      "text/plain": [
       "<IPython.lib.display.IFrame at 0x1dca1054f10>"
      ]
     },
     "metadata": {},
     "output_type": "display_data"
    },
    {
     "data": {
      "text/plain": []
     },
     "execution_count": 19,
     "metadata": {},
     "output_type": "execute_result"
    }
   ],
   "source": [
    "dtale.show(dataset)"
   ]
  },
  {
   "cell_type": "code",
   "execution_count": 20,
   "metadata": {},
   "outputs": [
    {
     "name": "stdout",
     "output_type": "stream",
     "text": [
      "Requirement already satisfied: pandas_profiling in c:\\users\\shrutika\\appdata\\local\\programs\\python\\python39\\lib\\site-packages (3.5.0)"
     ]
    },
    {
     "name": "stderr",
     "output_type": "stream",
     "text": [
      "WARNING: You are using pip version 21.3.1; however, version 22.3.1 is available.\n",
      "You should consider upgrading via the 'c:\\users\\shrutika\\appdata\\local\\programs\\python\\python39\\python.exe -m pip install --upgrade pip' command.\n"
     ]
    },
    {
     "name": "stdout",
     "output_type": "stream",
     "text": [
      "\n",
      "Requirement already satisfied: pandas!=1.4.0,<1.6,>1.1 in c:\\users\\shrutika\\appdata\\local\\programs\\python\\python39\\lib\\site-packages (from pandas_profiling) (1.3.4)\n",
      "Requirement already satisfied: PyYAML<6.1,>=5.0.0 in c:\\users\\shrutika\\appdata\\local\\programs\\python\\python39\\lib\\site-packages (from pandas_profiling) (6.0)\n",
      "Requirement already satisfied: jinja2<3.2,>=2.11.1 in c:\\users\\shrutika\\appdata\\local\\programs\\python\\python39\\lib\\site-packages (from pandas_profiling) (3.0.3)\n",
      "Requirement already satisfied: visions[type_image_path]==0.7.5 in c:\\users\\shrutika\\appdata\\local\\programs\\python\\python39\\lib\\site-packages (from pandas_profiling) (0.7.5)\n",
      "Requirement already satisfied: tqdm<4.65,>=4.48.2 in c:\\users\\shrutika\\appdata\\local\\programs\\python\\python39\\lib\\site-packages (from pandas_profiling) (4.62.3)\n",
      "Requirement already satisfied: numpy<1.24,>=1.16.0 in c:\\users\\shrutika\\appdata\\local\\programs\\python\\python39\\lib\\site-packages (from pandas_profiling) (1.21.4)\n",
      "Requirement already satisfied: requests<2.29,>=2.24.0 in c:\\users\\shrutika\\appdata\\local\\programs\\python\\python39\\lib\\site-packages (from pandas_profiling) (2.27.1)\n",
      "Requirement already satisfied: typeguard<2.14,>=2.13.2 in c:\\users\\shrutika\\appdata\\local\\programs\\python\\python39\\lib\\site-packages (from pandas_profiling) (2.13.3)\n",
      "Requirement already satisfied: pydantic<1.11,>=1.8.1 in c:\\users\\shrutika\\appdata\\local\\programs\\python\\python39\\lib\\site-packages (from pandas_profiling) (1.10.2)\n",
      "Requirement already satisfied: multimethod<1.10,>=1.4 in c:\\users\\shrutika\\appdata\\local\\programs\\python\\python39\\lib\\site-packages (from pandas_profiling) (1.9)\n",
      "Requirement already satisfied: phik<0.13,>=0.11.1 in c:\\users\\shrutika\\appdata\\local\\programs\\python\\python39\\lib\\site-packages (from pandas_profiling) (0.12.3)\n",
      "Requirement already satisfied: scipy<1.10,>=1.4.1 in c:\\users\\shrutika\\appdata\\local\\programs\\python\\python39\\lib\\site-packages (from pandas_profiling) (1.8.0)\n",
      "Requirement already satisfied: matplotlib<3.7,>=3.2 in c:\\users\\shrutika\\appdata\\local\\programs\\python\\python39\\lib\\site-packages (from pandas_profiling) (3.6.0)\n",
      "Requirement already satisfied: seaborn<0.13,>=0.10.1 in c:\\users\\shrutika\\appdata\\local\\programs\\python\\python39\\lib\\site-packages (from pandas_profiling) (0.12.1)\n",
      "Requirement already satisfied: statsmodels<0.14,>=0.13.2 in c:\\users\\shrutika\\appdata\\local\\programs\\python\\python39\\lib\\site-packages (from pandas_profiling) (0.13.5)\n",
      "Requirement already satisfied: htmlmin==0.1.12 in c:\\users\\shrutika\\appdata\\local\\programs\\python\\python39\\lib\\site-packages (from pandas_profiling) (0.1.12)\n",
      "Requirement already satisfied: attrs>=19.3.0 in c:\\users\\shrutika\\appdata\\local\\programs\\python\\python39\\lib\\site-packages (from visions[type_image_path]==0.7.5->pandas_profiling) (21.4.0)\n",
      "Requirement already satisfied: networkx>=2.4 in c:\\users\\shrutika\\appdata\\local\\programs\\python\\python39\\lib\\site-packages (from visions[type_image_path]==0.7.5->pandas_profiling) (2.8.8)\n",
      "Requirement already satisfied: tangled-up-in-unicode>=0.0.4 in c:\\users\\shrutika\\appdata\\local\\programs\\python\\python39\\lib\\site-packages (from visions[type_image_path]==0.7.5->pandas_profiling) (0.2.0)\n",
      "Requirement already satisfied: Pillow in c:\\users\\shrutika\\appdata\\local\\programs\\python\\python39\\lib\\site-packages (from visions[type_image_path]==0.7.5->pandas_profiling) (9.3.0)\n",
      "Requirement already satisfied: imagehash in c:\\users\\shrutika\\appdata\\local\\programs\\python\\python39\\lib\\site-packages (from visions[type_image_path]==0.7.5->pandas_profiling) (4.3.1)\n",
      "Requirement already satisfied: MarkupSafe>=2.0 in c:\\users\\shrutika\\appdata\\local\\programs\\python\\python39\\lib\\site-packages (from jinja2<3.2,>=2.11.1->pandas_profiling) (2.0.1)\n",
      "Requirement already satisfied: packaging>=20.0 in c:\\users\\shrutika\\appdata\\local\\programs\\python\\python39\\lib\\site-packages (from matplotlib<3.7,>=3.2->pandas_profiling) (22.0)\n",
      "Requirement already satisfied: cycler>=0.10 in c:\\users\\shrutika\\appdata\\local\\programs\\python\\python39\\lib\\site-packages (from matplotlib<3.7,>=3.2->pandas_profiling) (0.11.0)\n",
      "Requirement already satisfied: kiwisolver>=1.0.1 in c:\\users\\shrutika\\appdata\\local\\programs\\python\\python39\\lib\\site-packages (from matplotlib<3.7,>=3.2->pandas_profiling) (1.4.4)\n",
      "Requirement already satisfied: python-dateutil>=2.7 in c:\\users\\shrutika\\appdata\\local\\programs\\python\\python39\\lib\\site-packages (from matplotlib<3.7,>=3.2->pandas_profiling) (2.8.2)\n",
      "Requirement already satisfied: fonttools>=4.22.0 in c:\\users\\shrutika\\appdata\\local\\programs\\python\\python39\\lib\\site-packages (from matplotlib<3.7,>=3.2->pandas_profiling) (4.38.0)\n",
      "Requirement already satisfied: pyparsing>=2.2.1 in c:\\users\\shrutika\\appdata\\local\\programs\\python\\python39\\lib\\site-packages (from matplotlib<3.7,>=3.2->pandas_profiling) (3.0.9)\n",
      "Requirement already satisfied: contourpy>=1.0.1 in c:\\users\\shrutika\\appdata\\local\\programs\\python\\python39\\lib\\site-packages (from matplotlib<3.7,>=3.2->pandas_profiling) (1.0.6)\n",
      "Requirement already satisfied: pytz>=2017.3 in c:\\users\\shrutika\\appdata\\local\\programs\\python\\python39\\lib\\site-packages (from pandas!=1.4.0,<1.6,>1.1->pandas_profiling) (2021.3)\n",
      "Requirement already satisfied: joblib>=0.14.1 in c:\\users\\shrutika\\appdata\\local\\programs\\python\\python39\\lib\\site-packages (from phik<0.13,>=0.11.1->pandas_profiling) (1.2.0)\n",
      "Requirement already satisfied: typing-extensions>=4.1.0 in c:\\users\\shrutika\\appdata\\local\\programs\\python\\python39\\lib\\site-packages (from pydantic<1.11,>=1.8.1->pandas_profiling) (4.4.0)\n",
      "Requirement already satisfied: certifi>=2017.4.17 in c:\\users\\shrutika\\appdata\\local\\programs\\python\\python39\\lib\\site-packages (from requests<2.29,>=2.24.0->pandas_profiling) (2021.10.8)\n",
      "Requirement already satisfied: idna<4,>=2.5 in c:\\users\\shrutika\\appdata\\local\\programs\\python\\python39\\lib\\site-packages (from requests<2.29,>=2.24.0->pandas_profiling) (3.3)\n",
      "Requirement already satisfied: urllib3<1.27,>=1.21.1 in c:\\users\\shrutika\\appdata\\local\\programs\\python\\python39\\lib\\site-packages (from requests<2.29,>=2.24.0->pandas_profiling) (1.26.8)\n",
      "Requirement already satisfied: charset-normalizer~=2.0.0 in c:\\users\\shrutika\\appdata\\local\\programs\\python\\python39\\lib\\site-packages (from requests<2.29,>=2.24.0->pandas_profiling) (2.0.10)\n",
      "Requirement already satisfied: patsy>=0.5.2 in c:\\users\\shrutika\\appdata\\local\\programs\\python\\python39\\lib\\site-packages (from statsmodels<0.14,>=0.13.2->pandas_profiling) (0.5.3)\n",
      "Requirement already satisfied: colorama in c:\\users\\shrutika\\appdata\\local\\programs\\python\\python39\\lib\\site-packages (from tqdm<4.65,>=4.48.2->pandas_profiling) (0.4.4)\n",
      "Requirement already satisfied: six in c:\\users\\shrutika\\appdata\\local\\programs\\python\\python39\\lib\\site-packages (from patsy>=0.5.2->statsmodels<0.14,>=0.13.2->pandas_profiling) (1.16.0)\n",
      "Requirement already satisfied: PyWavelets in c:\\users\\shrutika\\appdata\\local\\programs\\python\\python39\\lib\\site-packages (from imagehash->visions[type_image_path]==0.7.5->pandas_profiling) (1.4.1)\n"
     ]
    }
   ],
   "source": [
    "!pip install pandas_profiling"
   ]
  },
  {
   "cell_type": "code",
   "execution_count": 21,
   "metadata": {},
   "outputs": [],
   "source": [
    "from pandas_profiling import ProfileReport"
   ]
  },
  {
   "cell_type": "code",
   "execution_count": 24,
   "metadata": {},
   "outputs": [],
   "source": [
    "df = sns.load_dataset(\"tips\")"
   ]
  },
  {
   "cell_type": "code",
   "execution_count": 25,
   "metadata": {},
   "outputs": [
    {
     "data": {
      "text/html": [
       "<div>\n",
       "<style scoped>\n",
       "    .dataframe tbody tr th:only-of-type {\n",
       "        vertical-align: middle;\n",
       "    }\n",
       "\n",
       "    .dataframe tbody tr th {\n",
       "        vertical-align: top;\n",
       "    }\n",
       "\n",
       "    .dataframe thead th {\n",
       "        text-align: right;\n",
       "    }\n",
       "</style>\n",
       "<table border=\"1\" class=\"dataframe\">\n",
       "  <thead>\n",
       "    <tr style=\"text-align: right;\">\n",
       "      <th></th>\n",
       "      <th>total_bill</th>\n",
       "      <th>tip</th>\n",
       "      <th>sex</th>\n",
       "      <th>smoker</th>\n",
       "      <th>day</th>\n",
       "      <th>time</th>\n",
       "      <th>size</th>\n",
       "    </tr>\n",
       "  </thead>\n",
       "  <tbody>\n",
       "    <tr>\n",
       "      <th>0</th>\n",
       "      <td>16.99</td>\n",
       "      <td>1.01</td>\n",
       "      <td>Female</td>\n",
       "      <td>No</td>\n",
       "      <td>Sun</td>\n",
       "      <td>Dinner</td>\n",
       "      <td>2</td>\n",
       "    </tr>\n",
       "    <tr>\n",
       "      <th>1</th>\n",
       "      <td>10.34</td>\n",
       "      <td>1.66</td>\n",
       "      <td>Male</td>\n",
       "      <td>No</td>\n",
       "      <td>Sun</td>\n",
       "      <td>Dinner</td>\n",
       "      <td>3</td>\n",
       "    </tr>\n",
       "    <tr>\n",
       "      <th>2</th>\n",
       "      <td>21.01</td>\n",
       "      <td>3.50</td>\n",
       "      <td>Male</td>\n",
       "      <td>No</td>\n",
       "      <td>Sun</td>\n",
       "      <td>Dinner</td>\n",
       "      <td>3</td>\n",
       "    </tr>\n",
       "    <tr>\n",
       "      <th>3</th>\n",
       "      <td>23.68</td>\n",
       "      <td>3.31</td>\n",
       "      <td>Male</td>\n",
       "      <td>No</td>\n",
       "      <td>Sun</td>\n",
       "      <td>Dinner</td>\n",
       "      <td>2</td>\n",
       "    </tr>\n",
       "    <tr>\n",
       "      <th>4</th>\n",
       "      <td>24.59</td>\n",
       "      <td>3.61</td>\n",
       "      <td>Female</td>\n",
       "      <td>No</td>\n",
       "      <td>Sun</td>\n",
       "      <td>Dinner</td>\n",
       "      <td>4</td>\n",
       "    </tr>\n",
       "  </tbody>\n",
       "</table>\n",
       "</div>"
      ],
      "text/plain": [
       "   total_bill   tip     sex smoker  day    time  size\n",
       "0       16.99  1.01  Female     No  Sun  Dinner     2\n",
       "1       10.34  1.66    Male     No  Sun  Dinner     3\n",
       "2       21.01  3.50    Male     No  Sun  Dinner     3\n",
       "3       23.68  3.31    Male     No  Sun  Dinner     2\n",
       "4       24.59  3.61  Female     No  Sun  Dinner     4"
      ]
     },
     "execution_count": 25,
     "metadata": {},
     "output_type": "execute_result"
    }
   ],
   "source": [
    "df.head()"
   ]
  },
  {
   "cell_type": "code",
   "execution_count": 26,
   "metadata": {},
   "outputs": [],
   "source": [
    "Profile = ProfileReport(df)"
   ]
  },
  {
   "cell_type": "code",
   "execution_count": 32,
   "metadata": {},
   "outputs": [
    {
     "data": {
      "application/vnd.jupyter.widget-view+json": {
       "model_id": "3c5a17a9423b46fda97ebc2faf64335e",
       "version_major": 2,
       "version_minor": 0
      },
      "text/plain": [
       "Export report to file:   0%|          | 0/1 [00:00<?, ?it/s]"
      ]
     },
     "metadata": {},
     "output_type": "display_data"
    }
   ],
   "source": [
    "Profile.to_file('index.html')"
   ]
  },
  {
   "cell_type": "code",
   "execution_count": 33,
   "metadata": {},
   "outputs": [
    {
     "name": "stdout",
     "output_type": "stream",
     "text": [
      "Collecting sweetviz\n",
      "  Downloading sweetviz-2.1.4-py3-none-any.whl (15.1 MB)\n",
      "Collecting importlib-resources>=1.2.0\n",
      "  Downloading importlib_resources-5.10.1-py3-none-any.whl (34 kB)\n",
      "Requirement already satisfied: pandas!=1.0.0,!=1.0.1,!=1.0.2,>=0.25.3 in c:\\users\\shrutika\\appdata\\local\\programs\\python\\python39\\lib\\site-packages (from sweetviz) (1.3.4)\n",
      "Requirement already satisfied: scipy>=1.3.2 in c:\\users\\shrutika\\appdata\\local\\programs\\python\\python39\\lib\\site-packages (from sweetviz) (1.8.0)\n",
      "Requirement already satisfied: matplotlib>=3.1.3 in c:\\users\\shrutika\\appdata\\local\\programs\\python\\python39\\lib\\site-packages (from sweetviz) (3.6.0)\n",
      "Requirement already satisfied: numpy>=1.16.0 in c:\\users\\shrutika\\appdata\\local\\programs\\python\\python39\\lib\\site-packages (from sweetviz) (1.21.4)\n",
      "Requirement already satisfied: tqdm>=4.43.0 in c:\\users\\shrutika\\appdata\\local\\programs\\python\\python39\\lib\\site-packages (from sweetviz) (4.62.3)\n",
      "Requirement already satisfied: jinja2>=2.11.1 in c:\\users\\shrutika\\appdata\\local\\programs\\python\\python39\\lib\\site-packages (from sweetviz) (3.0.3)\n",
      "Collecting zipp>=3.1.0\n",
      "  Downloading zipp-3.11.0-py3-none-any.whl (6.6 kB)\n",
      "Requirement already satisfied: MarkupSafe>=2.0 in c:\\users\\shrutika\\appdata\\local\\programs\\python\\python39\\lib\\site-packages (from jinja2>=2.11.1->sweetviz) (2.0.1)\n",
      "Requirement already satisfied: contourpy>=1.0.1 in c:\\users\\shrutika\\appdata\\local\\programs\\python\\python39\\lib\\site-packages (from matplotlib>=3.1.3->sweetviz) (1.0.6)\n",
      "Requirement already satisfied: kiwisolver>=1.0.1 in c:\\users\\shrutika\\appdata\\local\\programs\\python\\python39\\lib\\site-packages (from matplotlib>=3.1.3->sweetviz) (1.4.4)\n",
      "Requirement already satisfied: python-dateutil>=2.7 in c:\\users\\shrutika\\appdata\\local\\programs\\python\\python39\\lib\\site-packages (from matplotlib>=3.1.3->sweetviz) (2.8.2)\n",
      "Requirement already satisfied: cycler>=0.10 in c:\\users\\shrutika\\appdata\\local\\programs\\python\\python39\\lib\\site-packages (from matplotlib>=3.1.3->sweetviz) (0.11.0)\n",
      "Requirement already satisfied: pillow>=6.2.0 in c:\\users\\shrutika\\appdata\\local\\programs\\python\\python39\\lib\\site-packages (from matplotlib>=3.1.3->sweetviz) (9.3.0)\n",
      "Requirement already satisfied: fonttools>=4.22.0 in c:\\users\\shrutika\\appdata\\local\\programs\\python\\python39\\lib\\site-packages (from matplotlib>=3.1.3->sweetviz) (4.38.0)\n",
      "Requirement already satisfied: pyparsing>=2.2.1 in c:\\users\\shrutika\\appdata\\local\\programs\\python\\python39\\lib\\site-packages (from matplotlib>=3.1.3->sweetviz) (3.0.9)\n",
      "Requirement already satisfied: packaging>=20.0 in c:\\users\\shrutika\\appdata\\local\\programs\\python\\python39\\lib\\site-packages (from matplotlib>=3.1.3->sweetviz) (22.0)\n",
      "Requirement already satisfied: pytz>=2017.3 in c:\\users\\shrutika\\appdata\\local\\programs\\python\\python39\\lib\\site-packages (from pandas!=1.0.0,!=1.0.1,!=1.0.2,>=0.25.3->sweetviz) (2021.3)\n",
      "Requirement already satisfied: colorama in c:\\users\\shrutika\\appdata\\local\\programs\\python\\python39\\lib\\site-packages (from tqdm>=4.43.0->sweetviz) (0.4.4)\n",
      "Requirement already satisfied: six>=1.5 in c:\\users\\shrutika\\appdata\\local\\programs\\python\\python39\\lib\\site-packages (from python-dateutil>=2.7->matplotlib>=3.1.3->sweetviz) (1.16.0)\n",
      "Installing collected packages: zipp, importlib-resources, sweetviz\n",
      "Successfully installed importlib-resources-5.10.1 sweetviz-2.1.4 zipp-3.11.0\n"
     ]
    },
    {
     "name": "stderr",
     "output_type": "stream",
     "text": [
      "WARNING: You are using pip version 21.3.1; however, version 22.3.1 is available.\n",
      "You should consider upgrading via the 'c:\\users\\shrutika\\appdata\\local\\programs\\python\\python39\\python.exe -m pip install --upgrade pip' command.\n"
     ]
    }
   ],
   "source": [
    "!pip install sweetviz"
   ]
  },
  {
   "cell_type": "code",
   "execution_count": 34,
   "metadata": {},
   "outputs": [],
   "source": [
    "import sweetviz as sv"
   ]
  },
  {
   "cell_type": "code",
   "execution_count": 38,
   "metadata": {},
   "outputs": [
    {
     "data": {
      "application/vnd.jupyter.widget-view+json": {
       "model_id": "dfe16fcfc1ac4f639a8fa7a19726dc06",
       "version_major": 2,
       "version_minor": 0
      },
      "text/plain": [
       "                                             |                                             | [  0%]   00:00 ->…"
      ]
     },
     "metadata": {},
     "output_type": "display_data"
    }
   ],
   "source": [
    "report = sv.analyze(df)"
   ]
  },
  {
   "cell_type": "code",
   "execution_count": 43,
   "metadata": {},
   "outputs": [
    {
     "name": "stdout",
     "output_type": "stream",
     "text": [
      "Report Sweetwiz Report.html was generated! NOTEBOOK/COLAB USERS: the web browser MAY not pop up, regardless, the report IS saved in your notebook/colab files.\n"
     ]
    }
   ],
   "source": [
    "report.show_html('Sweetwiz Report.html')"
   ]
  },
  {
   "cell_type": "code",
   "execution_count": null,
   "metadata": {},
   "outputs": [],
   "source": []
  }
 ],
 "metadata": {
  "kernelspec": {
   "display_name": "Python 3",
   "language": "python",
   "name": "python3"
  },
  "language_info": {
   "codemirror_mode": {
    "name": "ipython",
    "version": 3
   },
   "file_extension": ".py",
   "mimetype": "text/x-python",
   "name": "python",
   "nbconvert_exporter": "python",
   "pygments_lexer": "ipython3",
   "version": "3.8.5"
  }
 },
 "nbformat": 4,
 "nbformat_minor": 4
}
